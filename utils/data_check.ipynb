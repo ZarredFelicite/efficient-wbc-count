{
 "cells": [
  {
   "cell_type": "code",
   "execution_count": 1,
   "metadata": {},
   "outputs": [],
   "source": [
    "import os\n",
    "import sys"
   ]
  },
  {
   "cell_type": "code",
   "execution_count": 7,
   "metadata": {},
   "outputs": [
    {
     "name": "stdout",
     "output_type": "stream",
     "text": [
      "[2653, 1248, 172, 288, 94]\n",
      "[2655, 1245, 172, 290, 93]\n",
      "[2656, 1246, 172, 287, 94]\n",
      "[2655, 1246, 172, 288, 94]\n"
     ]
    }
   ],
   "source": [
    "for colour in ['Fluor','Green','Red','Purple']:\n",
    "    path = 'Data/WBC_dataset/WBC_png_label/'+colour\n",
    "    classes=[0,0,0,0,0]\n",
    "    for subdir, dirs, files in os.walk(path):\n",
    "        for file in files:\n",
    "            filep = os.path.join(subdir, file)\n",
    "            filel = filep.replace('\\\\','/').split('/')\n",
    "            if filel[-1][-3:] == 'txt':\n",
    "                with open(filep) as file:\n",
    "                    while (line := file.readline().rstrip()):\n",
    "                        det = line.replace('\\n',' ').split(\" \")\n",
    "                        classes[int(det[0])]+=1\n",
    "    print(classes)\n"
   ]
  }
 ],
 "metadata": {
  "interpreter": {
   "hash": "b3ba2566441a7c06988d0923437866b63cedc61552a5af99d1f4fb67d367b25f"
  },
  "kernelspec": {
   "display_name": "Python 3.8.8 64-bit ('base': conda)",
   "name": "python3"
  },
  "language_info": {
   "codemirror_mode": {
    "name": "ipython",
    "version": 3
   },
   "file_extension": ".py",
   "mimetype": "text/x-python",
   "name": "python",
   "nbconvert_exporter": "python",
   "pygments_lexer": "ipython3",
   "version": "3.8.8"
  },
  "orig_nbformat": 4
 },
 "nbformat": 4,
 "nbformat_minor": 2
}
