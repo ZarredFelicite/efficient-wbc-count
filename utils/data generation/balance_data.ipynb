{
 "cells": [
  {
   "cell_type": "code",
   "execution_count": 11,
   "metadata": {},
   "outputs": [],
   "source": [
    "from PIL import Image\n",
    "import os\n",
    "import shutil"
   ]
  },
  {
   "cell_type": "code",
   "execution_count": 15,
   "metadata": {},
   "outputs": [
    {
     "name": "stdout",
     "output_type": "stream",
     "text": [
      "2808\n",
      "2717\n",
      "2608\n",
      "2772\n",
      "2824\n"
     ]
    }
   ],
   "source": [
    "for label in ['Basophil','Eosonophil','Lymphocyte','Monocyte','Neutrophil']:\n",
    "    path = 'T:/fyp/hematology/Data/WBC_Classification_3172_c/Purple/train/{}'.format(label)\n",
    "    image_list = os.listdir(path)\n",
    "    # reps = int(2824/len(image_list))\n",
    "    new_path = 'T:/fyp/hematology/Data/WBC_Classification_3172_c/Purple/train_bal/{}'.format(label)\n",
    "    print(len(os.listdir(new_path)))\n",
    "    # for i in range(reps):\n",
    "    #     for img in image_list:\n",
    "    #         f = path + '/' + img\n",
    "    #         shutil.copyfile(f, new_path + '/' + img[:-4] + '_' + str(i) + '.png')"
   ]
  },
  {
   "cell_type": "code",
   "execution_count": null,
   "metadata": {},
   "outputs": [],
   "source": []
  }
 ],
 "metadata": {
  "interpreter": {
   "hash": "b3ba2566441a7c06988d0923437866b63cedc61552a5af99d1f4fb67d367b25f"
  },
  "kernelspec": {
   "display_name": "Python 3.8.8 ('base')",
   "language": "python",
   "name": "python3"
  },
  "language_info": {
   "codemirror_mode": {
    "name": "ipython",
    "version": 3
   },
   "file_extension": ".py",
   "mimetype": "text/x-python",
   "name": "python",
   "nbconvert_exporter": "python",
   "pygments_lexer": "ipython3",
   "version": "3.8.8"
  },
  "orig_nbformat": 4
 },
 "nbformat": 4,
 "nbformat_minor": 2
}
