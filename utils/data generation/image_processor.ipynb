{
 "cells": [
  {
   "cell_type": "code",
   "execution_count": 1,
   "metadata": {},
   "outputs": [],
   "source": [
    "from PIL import Image, ImageDraw\n",
    "import numpy as np\n",
    "import random as rand\n",
    "import os\n",
    "from pathlib import Path"
   ]
  },
  {
   "cell_type": "code",
   "execution_count": 2,
   "metadata": {},
   "outputs": [
    {
     "ename": "NameError",
     "evalue": "name 'set_path' is not defined",
     "output_type": "error",
     "traceback": [
      "\u001b[1;31m---------------------------------------------------------------------------\u001b[0m",
      "\u001b[1;31mNameError\u001b[0m                                 Traceback (most recent call last)",
      "\u001b[1;32m<ipython-input-2-74bdf94eea06>\u001b[0m in \u001b[0;36m<module>\u001b[1;34m\u001b[0m\n\u001b[0;32m      2\u001b[0m \u001b[0mnew_path\u001b[0m \u001b[1;33m=\u001b[0m \u001b[1;34m\"T:/Haematology FYP/Data/WBC_Classification/fluor/\"\u001b[0m\u001b[1;33m\u001b[0m\u001b[1;33m\u001b[0m\u001b[0m\n\u001b[0;32m      3\u001b[0m \u001b[0mset_path_f\u001b[0m \u001b[1;33m=\u001b[0m \u001b[0mf_path\u001b[0m \u001b[1;33m+\u001b[0m \u001b[1;34m\"Fluor/\"\u001b[0m\u001b[1;33m\u001b[0m\u001b[1;33m\u001b[0m\u001b[0m\n\u001b[1;32m----> 4\u001b[1;33m \u001b[0mimg_path\u001b[0m \u001b[1;33m=\u001b[0m \u001b[0mset_path\u001b[0m \u001b[1;33m+\u001b[0m \u001b[1;34m\"images/\"\u001b[0m\u001b[1;33m\u001b[0m\u001b[1;33m\u001b[0m\u001b[0m\n\u001b[0m\u001b[0;32m      5\u001b[0m \u001b[0mlabel_path\u001b[0m \u001b[1;33m=\u001b[0m \u001b[0mset_path\u001b[0m \u001b[1;33m+\u001b[0m \u001b[1;34m\"labels/\"\u001b[0m\u001b[1;33m\u001b[0m\u001b[1;33m\u001b[0m\u001b[0m\n\u001b[0;32m      6\u001b[0m \u001b[0mimage_list\u001b[0m \u001b[1;33m=\u001b[0m \u001b[0mos\u001b[0m\u001b[1;33m.\u001b[0m\u001b[0mlistdir\u001b[0m\u001b[1;33m(\u001b[0m\u001b[0mimg_path\u001b[0m\u001b[1;33m)\u001b[0m\u001b[1;33m\u001b[0m\u001b[1;33m\u001b[0m\u001b[0m\n",
      "\u001b[1;31mNameError\u001b[0m: name 'set_path' is not defined"
     ]
    }
   ],
   "source": [
    "f_path = \"T:/Haematology FYP/Data/WBC_dataset/WBC_png_label/\"\n",
    "new_path = \"T:/Haematology FYP/Data/WBC_Classification/fluor/\"\n",
    "set_path_f = f_path + \"Fluor/\"\n",
    "img_path = set_path + \"images/\"\n",
    "label_path = set_path + \"labels/\"\n",
    "image_list = os.listdir(img_path)"
   ]
  },
  {
   "cell_type": "code",
   "execution_count": 42,
   "metadata": {},
   "outputs": [],
   "source": [
    "for image in image_list:\n",
    "    img = Image.open(img_path+image)\n",
    "    w = img.width\n",
    "    h = img.height\n",
    "    labels = Path(label_path+image[:-4]+'.txt').read_text()\n",
    "    labels = labels.replace(\"\\n\",\" \").split(\" \")\n",
    "    labels = [float(x) for x in list(filter(None, labels))]\n",
    "    labels = np.array(labels).reshape(-1,5)\n",
    "    scale = np.array([1,w,h,w,h])\n",
    "    for i in range(labels.shape[0]):\n",
    "        labels[i] = labels[i]*scale\n",
    "        left = labels[i][1]-labels[i][3]/2\n",
    "        top = labels[i][2]-labels[i][4]/2\n",
    "        right = labels[i][1]+labels[i][3]/2\n",
    "        bottom = labels[i][2]+labels[i][4]/2\n",
    "        label = labels[i][0]\n",
    "        crop = img.crop((left,top,right,bottom))\n",
    "        img_save = new_path + str(int(label)) +\"/\"+ image[:-4] +\"_\"+ str(i) + \".png\"\n",
    "        crop.save(img_save)"
   ]
  },
  {
   "cell_type": "code",
   "execution_count": 27,
   "metadata": {},
   "outputs": [],
   "source": [
    "mismatches = [99,171,173,219,359,371,394,423,433,482,1109,1153,1626]\n",
    "f_pathf = \"T:/Haematology FYP/Data/WBC_dataset/WBC_png_label/Fluor/labels/\"\n",
    "f_pathg = \"T:/Haematology FYP/Data/WBC_dataset/WBC_png_label/Green/labels/\"\n",
    "f_pathp = \"T:/Haematology FYP/Data/WBC_dataset/WBC_png_label/Purple/labels/\"\n",
    "f_pathr = \"T:/Haematology FYP/Data/WBC_dataset/WBC_png_label/Red/labels/\"\n",
    "i_pathf = \"T:/Haematology FYP/Data/WBC_dataset/WBC_png_label/Fluor/images/\"\n",
    "i_pathg = \"T:/Haematology FYP/Data/WBC_dataset/WBC_png_label/Green/images/\"\n",
    "i_pathp = \"T:/Haematology FYP/Data/WBC_dataset/WBC_png_label/Purple/images/\"\n",
    "i_pathr = \"T:/Haematology FYP/Data/WBC_dataset/WBC_png_label/Red/images/\"\n",
    "new_path = \"T:/Haematology FYP/Data/WBC_Classification/\"\n",
    "pathf = sorted([int(x[:-4]) for x in os.listdir(f_pathf)])\n",
    "pathg = sorted([int(x[:-4]) for x in os.listdir(f_pathg)])\n",
    "pathp = sorted([int(x[:-4]) for x in os.listdir(f_pathp)])\n",
    "pathr = sorted([int(x[:-4]) for x in os.listdir(f_pathr)])\n",
    "for image in mismatches:\n",
    "    labels = Path(f_pathf+str(image)+'.txt').read_text()\n",
    "    labels = labels.replace(\"\\n\",\" \").split(\" \")\n",
    "    labels = [float(x) for x in list(filter(None, labels))]\n",
    "    labelsf = np.array(labels).reshape(-1,5)\n",
    "    labelsf = labelsf[labelsf[:,1].argsort()]\n",
    "\n",
    "    labels = Path(f_pathg+str(image)+'.txt').read_text()\n",
    "    labels = labels.replace(\"\\n\",\" \").split(\" \")\n",
    "    labels = [float(x) for x in list(filter(None, labels))]\n",
    "    labelsg = np.array(labels).reshape(-1,5)\n",
    "    labelsg = labelsg[labelsg[:,1].argsort()]\n",
    "\n",
    "    labels = Path(f_pathp+str(image)+'.txt').read_text()\n",
    "    labels = labels.replace(\"\\n\",\" \").split(\" \")\n",
    "    labels = [float(x) for x in list(filter(None, labels))]\n",
    "    labelsp = np.array(labels).reshape(-1,5)\n",
    "    labelsp = labelsp[labelsp[:,1].argsort()]\n",
    "\n",
    "    labels = Path(f_pathr+str(image)+'.txt').read_text()\n",
    "    labels = labels.replace(\"\\n\",\" \").split(\" \")\n",
    "    labels = [float(x) for x in list(filter(None, labels))]\n",
    "    labelsr = np.array(labels).reshape(-1,5)\n",
    "    labelsr = labelsr[labelsr[:,1].argsort()]\n",
    "    paths = [i_pathf,i_pathg,i_pathp,i_pathr]\n",
    "    labels = [labelsf,labelsg,labelsp,labelsr]\n",
    "    newpaths = [new_path+'fluor/',new_path+'green/',new_path+'purple/',new_path+'red/']\n",
    "    classes = ['Neutrophil','Lymphocyte','Monocyte','Eosonophil','Basophil']\n",
    "   \n",
    "    for path,label,npath in zip(paths,labels,newpaths):\n",
    "        img = Image.open(path+str(image)+\".png\")\n",
    "        w = img.width\n",
    "        h = img.height\n",
    "        scale = np.array([1,w,h,w,h])\n",
    "        for i in range(label.shape[0]):\n",
    "            label[i] = label[i]*scale\n",
    "            left = label[i][1]-label[i][3]/2\n",
    "            top = label[i][2]-label[i][4]/2\n",
    "            right = label[i][1]+label[i][3]/2\n",
    "            bottom = label[i][2]+label[i][4]/2\n",
    "            classs = int(label[i][0])\n",
    "            crop = img.crop((left,top,right,bottom))\n",
    "            img_save = npath + classes[classs] +\"/\"+ str(image) +\"_\"+ str(i) + \".png\"\n",
    "            crop.save(img_save)\n",
    "            "
   ]
  },
  {
   "cell_type": "code",
   "execution_count": 2,
   "metadata": {},
   "outputs": [
    {
     "ename": "PermissionError",
     "evalue": "[Errno 13] Permission denied: 'T:/Haematology FYP/Data/WBC_Classification/fluor/Neutrophil'",
     "output_type": "error",
     "traceback": [
      "\u001b[1;31m---------------------------------------------------------------------------\u001b[0m",
      "\u001b[1;31mPermissionError\u001b[0m                           Traceback (most recent call last)",
      "\u001b[1;32m<ipython-input-2-2ff808b11362>\u001b[0m in \u001b[0;36m<module>\u001b[1;34m\u001b[0m\n\u001b[0;32m      4\u001b[0m \u001b[0mpath\u001b[0m \u001b[1;33m=\u001b[0m \u001b[1;34m\"T:/Haematology FYP/Data/WBC_Classification/fluor/Neutrophil\"\u001b[0m\u001b[1;33m\u001b[0m\u001b[1;33m\u001b[0m\u001b[0m\n\u001b[0;32m      5\u001b[0m \u001b[1;32mfor\u001b[0m \u001b[0mi\u001b[0m \u001b[1;32min\u001b[0m \u001b[0mos\u001b[0m\u001b[1;33m.\u001b[0m\u001b[0mlistdir\u001b[0m\u001b[1;33m(\u001b[0m\u001b[0mpath\u001b[0m\u001b[1;33m)\u001b[0m\u001b[1;33m:\u001b[0m\u001b[1;33m\u001b[0m\u001b[1;33m\u001b[0m\u001b[0m\n\u001b[1;32m----> 6\u001b[1;33m     \u001b[0mimg\u001b[0m \u001b[1;33m=\u001b[0m \u001b[0mImage\u001b[0m\u001b[1;33m.\u001b[0m\u001b[0mopen\u001b[0m\u001b[1;33m(\u001b[0m\u001b[0mpath\u001b[0m\u001b[1;33m)\u001b[0m\u001b[1;33m\u001b[0m\u001b[1;33m\u001b[0m\u001b[0m\n\u001b[0m\u001b[0;32m      7\u001b[0m     \u001b[0mw\u001b[0m \u001b[1;33m=\u001b[0m \u001b[0mimg\u001b[0m\u001b[1;33m.\u001b[0m\u001b[0mwidth\u001b[0m\u001b[1;33m\u001b[0m\u001b[1;33m\u001b[0m\u001b[0m\n\u001b[0;32m      8\u001b[0m     \u001b[0mh\u001b[0m \u001b[1;33m=\u001b[0m \u001b[0mimg\u001b[0m\u001b[1;33m.\u001b[0m\u001b[0mheight\u001b[0m\u001b[1;33m\u001b[0m\u001b[1;33m\u001b[0m\u001b[0m\n",
      "\u001b[1;32mC:\\ProgramData\\Anaconda3\\lib\\site-packages\\PIL\\Image.py\u001b[0m in \u001b[0;36mopen\u001b[1;34m(fp, mode, formats)\u001b[0m\n\u001b[0;32m   2910\u001b[0m \u001b[1;33m\u001b[0m\u001b[0m\n\u001b[0;32m   2911\u001b[0m     \u001b[1;32mif\u001b[0m \u001b[0mfilename\u001b[0m\u001b[1;33m:\u001b[0m\u001b[1;33m\u001b[0m\u001b[1;33m\u001b[0m\u001b[0m\n\u001b[1;32m-> 2912\u001b[1;33m         \u001b[0mfp\u001b[0m \u001b[1;33m=\u001b[0m \u001b[0mbuiltins\u001b[0m\u001b[1;33m.\u001b[0m\u001b[0mopen\u001b[0m\u001b[1;33m(\u001b[0m\u001b[0mfilename\u001b[0m\u001b[1;33m,\u001b[0m \u001b[1;34m\"rb\"\u001b[0m\u001b[1;33m)\u001b[0m\u001b[1;33m\u001b[0m\u001b[1;33m\u001b[0m\u001b[0m\n\u001b[0m\u001b[0;32m   2913\u001b[0m         \u001b[0mexclusive_fp\u001b[0m \u001b[1;33m=\u001b[0m \u001b[1;32mTrue\u001b[0m\u001b[1;33m\u001b[0m\u001b[1;33m\u001b[0m\u001b[0m\n\u001b[0;32m   2914\u001b[0m \u001b[1;33m\u001b[0m\u001b[0m\n",
      "\u001b[1;31mPermissionError\u001b[0m: [Errno 13] Permission denied: 'T:/Haematology FYP/Data/WBC_Classification/fluor/Neutrophil'"
     ]
    }
   ],
   "source": [
    "j=0\n",
    "width=[]\n",
    "height=[]\n",
    "path = \"T:/Haematology FYP/Data/WBC_Classification/fluor/Neutrophil\"\n",
    "for i in os.listdir(path):\n",
    "    img = Image.open(path)\n",
    "    w = img.width\n",
    "    h = img.height\n",
    "    width.append(w)\n",
    "    height.append(h)\n",
    "print(\"average\")\n",
    "print(sum(width)/len(width))\n",
    "print(sum(height)/len(height))\n",
    "print('min')\n",
    "print(min(width))\n",
    "print(min(height))\n",
    "print('max')\n",
    "print(max(width))\n",
    "print(max(height))"
   ]
  },
  {
   "cell_type": "code",
   "execution_count": null,
   "metadata": {},
   "outputs": [],
   "source": []
  }
 ],
 "metadata": {
  "interpreter": {
   "hash": "b3ba2566441a7c06988d0923437866b63cedc61552a5af99d1f4fb67d367b25f"
  },
  "kernelspec": {
   "display_name": "Python 3.8.8 64-bit ('base': conda)",
   "name": "python3"
  },
  "language_info": {
   "codemirror_mode": {
    "name": "ipython",
    "version": 3
   },
   "file_extension": ".py",
   "mimetype": "text/x-python",
   "name": "python",
   "nbconvert_exporter": "python",
   "pygments_lexer": "ipython3",
   "version": "3.8.8"
  },
  "orig_nbformat": 4
 },
 "nbformat": 4,
 "nbformat_minor": 2
}
