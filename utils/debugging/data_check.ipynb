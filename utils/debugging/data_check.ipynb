{
 "cells": [
  {
   "cell_type": "code",
   "execution_count": 10,
   "metadata": {},
   "outputs": [],
   "source": [
    "import os\n",
    "import sys\n",
    "import csv\n",
    "import pandas as pd\n",
    "import matplotlib.pyplot as plt\n",
    "import numpy as np"
   ]
  },
  {
   "cell_type": "code",
   "execution_count": 14,
   "metadata": {},
   "outputs": [
    {
     "name": "stdout",
     "output_type": "stream",
     "text": [
      ".\n"
     ]
    }
   ],
   "source": [
    "# for colour in ['Fluor','Green','Red','Purple']:\n",
    "#     path = 'Data/classification/val_0.csv'\n",
    "#     classes=[0,0,0,0,0]\n",
    "#     for subdir, dirs, files in os.walk(path):\n",
    "#         for file in files:\n",
    "#             filep = os.path.join(subdir, file)\n",
    "#             filel = filep.replace('\\\\','/').split('/')\n",
    "#             if filel[-1][-3:] == 'txt':\n",
    "#                 with open(filep) as file:\n",
    "#                     while (line := file.readline().rstrip()):\n",
    "#                         det = line.replace('\\n',' ').split(\" \")\n",
    "#                         classes[int(det[0])]+=1\n",
    "#     print(classes)\n",
    "\n",
    "\n",
    "# path = 'T:/fyp_dataset/mixed'\n",
    "# classes=[0,0,0,0,0]\n",
    "# new = []\n",
    "# with open(path + '/val.csv') as csv_file:\n",
    "#     reader = csv.reader(csv_file, delimiter=',')\n",
    "#     data = list(reader)\n",
    "# for label_file in data:\n",
    "#     if label_file[0].split('-')[1][0] == '4':\n",
    "#         new.append(label_file)\n",
    "# with open('T:/fyp_dataset/mixed/val4.csv', 'w', encoding='UTF8', newline='') as f:\n",
    "#     writer = csv.writer(f)\n",
    "#     writer.writerows(new)\n",
    "\n",
    "# classes=[0,0,0,0,0]\n",
    "# with open(path + '/test.csv') as csv_file:\n",
    "#     reader = csv.reader(csv_file, delimiter=',')\n",
    "#     data = list(reader)\n",
    "# for label_file in data:\n",
    "#     with open(path + '/' + label_file[1], \"r\") as f:\n",
    "#         annotations = f.readlines()\n",
    "#         annotations = [label.replace('\\n','').split(\" \") for label in annotations]\n",
    "#         for ann in annotations:\n",
    "#             classes[int(float(ann[0]))]+=1\n",
    "# print(classes)\n",
    "\n",
    "# classes=[0,0,0,0,0]\n",
    "# with open(path + '/val.csv') as csv_file:\n",
    "#     reader = csv.reader(csv_file, delimiter=',')\n",
    "#     data = list(reader)\n",
    "# for label_file in data:\n",
    "#     with open(path + '/' + label_file[1], \"r\") as f:\n",
    "#         annotations = f.readlines()\n",
    "#         annotations = [label.replace('\\n','').split(\" \") for label in annotations]\n",
    "#         for ann in annotations:\n",
    "#             classes[int(float(ann[0]))]+=1\n",
    "# print(classes)\n",
    "\n",
    "\n",
    "# path = 'C:/fyp/hematology/Data/WBC_20220215/full_image/Purple/tiled2'\n",
    "# classes=[0,0,0,0,0]\n",
    "# with open(path + '/train.csv') as csv_file:\n",
    "#     reader = csv.reader(csv_file, delimiter=',')\n",
    "#     data = list(reader)\n",
    "# for label_file in data:\n",
    "#     with open(path + '/' + label_file[1], \"r\") as f:\n",
    "#         annotations = f.readlines()\n",
    "#         annotations = [label.replace('\\n','').split(\" \") for label in annotations]\n",
    "#         for ann in annotations:\n",
    "#             classes[int(float(ann[0]))]+=1\n",
    "# print(classes)"
   ]
  },
  {
   "cell_type": "code",
   "execution_count": 15,
   "metadata": {},
   "outputs": [
    {
     "name": "stdout",
     "output_type": "stream",
     "text": [
      "[37, 37, 38, 38, 38] [541, 541, 542, 542, 542] [3558, 3558, 3558, 3559, 3559] [99, 99, 99, 99, 100] [7692, 7693, 7693, 7693, 7693]\n"
     ]
    },
    {
     "data": {
      "text/plain": [
       "<Figure size 432x288 with 0 Axes>"
      ]
     },
     "metadata": {},
     "output_type": "display_data"
    }
   ],
   "source": [
    "# Validation\n",
    "# [\"Basophil\", \"Eosinophil\", \"Lymphocyte\", \"Monocyte\", \"Neutrophil\"]\n",
    "fig = plt.figure()\n",
    "Basophil = []\n",
    "Eosinophil = []\n",
    "Lymphocyte = []\n",
    "Monocyte = []\n",
    "Neutrophil = []\n",
    "for fold in ['0','1','2','3','4']:\n",
    "    df = pd.read_csv(f'data/classification/train_{fold}.csv')\n",
    "    Basophil.append(df[df[\"Fluor\"].str.contains(\"Basophil\")].shape[0])\n",
    "    Eosinophil.append(df[df[\"Fluor\"].str.contains(\"Eosonophil\")].shape[0])\n",
    "    Lymphocyte.append(df[df[\"Fluor\"].str.contains(\"Lymphocyte\")].shape[0])\n",
    "    Monocyte.append(df[df[\"Fluor\"].str.contains(\"Monocyte\")].shape[0])\n",
    "    Neutrophil.append(df[df[\"Fluor\"].str.contains(\"Neutrophil\")].shape[0])\n",
    "print(Basophil, Eosinophil, Lymphocyte, Monocyte, Neutrophil)\n",
    "\n",
    "# ax = fig.add_axes([0,0,2,2])\n",
    "# X = np.arange(5)\n",
    "# ax.bar(X + 0.00, Basophil, color = 'b', width = 0.25)\n",
    "# ax.bar(X + 0.25, Eosinophil, color = 'g', width = 0.25)\n",
    "# ax.bar(X + 0.50, Lymphocyte, color = 'y', width = 0.25)\n",
    "# ax.bar(X + 0.75, Monocyte, color = 'c', width = 0.25)\n",
    "# ax.bar(X + 1.0, Neutrophil, color = 'p', width = 0.25)"
   ]
  }
 ],
 "metadata": {
  "interpreter": {
   "hash": "eecacce48cb32bf5f084cfdfd0ac4cc5bb10f5ba740c332778b2b6a2912e0926"
  },
  "kernelspec": {
   "display_name": "Python 3.10.0 ('pyt-gpu')",
   "language": "python",
   "name": "python3"
  },
  "language_info": {
   "codemirror_mode": {
    "name": "ipython",
    "version": 3
   },
   "file_extension": ".py",
   "mimetype": "text/x-python",
   "name": "python",
   "nbconvert_exporter": "python",
   "pygments_lexer": "ipython3",
   "version": "3.10.0"
  },
  "orig_nbformat": 4
 },
 "nbformat": 4,
 "nbformat_minor": 2
}
