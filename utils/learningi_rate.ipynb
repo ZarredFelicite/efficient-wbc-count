{
 "cells": [
  {
   "cell_type": "code",
   "execution_count": 1,
   "metadata": {},
   "outputs": [],
   "source": [
    "import torch\n",
    "import matplotlib.pyplot as plt\n",
    "import math\n",
    "import numpy as np"
   ]
  },
  {
   "cell_type": "code",
   "execution_count": 24,
   "metadata": {},
   "outputs": [
    {
     "data": {
      "text/plain": [
       "[<matplotlib.lines.Line2D at 0x1f3f6178af0>]"
      ]
     },
     "execution_count": 24,
     "metadata": {},
     "output_type": "execute_result"
    },
    {
     "data": {
      "image/png": "[encoded data removed]",
      "text/plain": [
       "<Figure size 432x288 with 1 Axes>"
      ]
     },
     "metadata": {
      "needs_background": "light"
     },
     "output_type": "display_data"
    }
   ],
   "source": [
    "model = torch.nn.Linear(2, 1)\n",
    "optimizer = torch.optim.SGD(model.parameters(), lr=100)\n",
    "scheduler = torch.optim.lr_scheduler.ExponentialLR(optimizer, gamma=0.3)\n",
    "lrs = []\n",
    "\n",
    "\n",
    "for i in range(20):\n",
    "    optimizer.step()\n",
    "    lrs.append(optimizer.param_groups[0][\"lr\"])\n",
    "#     print(\"Factor = \",0.1,\" , Learning Rate = \",optimizer.param_groups[0][\"lr\"])\n",
    "    scheduler.step()\n",
    "\n",
    "plt.plot(lrs)"
   ]
  },
  {
   "cell_type": "code",
   "execution_count": 4,
   "metadata": {},
   "outputs": [
    {
     "data": {
      "text/plain": [
       "[<matplotlib.lines.Line2D at 0x25078fb5970>]"
      ]
     },
     "execution_count": 4,
     "metadata": {},
     "output_type": "execute_result"
    },
    {
     "data": {
      "image/png": "[encoded data removed]",
      "text/plain": [
       "<Figure size 432x288 with 1 Axes>"
      ]
     },
     "metadata": {
      "needs_background": "light"
     },
     "output_type": "display_data"
    }
   ],
   "source": [
    "num_epochs = 20\n",
    "model = torch.nn.Linear(2, 1)\n",
    "learning_rate = 1.5e-4\n",
    "optimizer = torch.optim.Adam(model.parameters(), lr = learning_rate, betas=(0.9, 0.999), weight_decay=1e-10)\n",
    "scheduler = torch.optim.lr_scheduler.OneCycleLR(optimizer, max_lr=learning_rate, steps_per_epoch=40, epochs=20, div_factor=4, pct_start=0.25, three_phase=True, final_div_factor=1e8)\n",
    "lrs = []\n",
    "\n",
    "for i in range(num_epochs):\n",
    "    optimizer.step()\n",
    "    lrs.append(optimizer.param_groups[0][\"lr\"])\n",
    "#     print(\"Factor = \",0.95,\" , Learning Rate = \",optimizer.param_groups[0][\"lr\"])\n",
    "    scheduler.step()\n",
    "\n",
    "\n",
    "\n",
    "plt.plot(range(num_epochs),lrs)\n",
    "\n",
    "\n"
   ]
  },
  {
   "cell_type": "code",
   "execution_count": null,
   "metadata": {},
   "outputs": [],
   "source": [
    "\n",
    "# optimizer = torch.optim.Adam(model.parameters(), lr=1e-4, betas=(0.09, 0.0999))\n",
    "# lmbda = lambda epoch: 0.9**((epoch*0.2)**3)\n",
    "# scheduler = torch.optim.lr_scheduler.MultiplicativeLR(optimizer, lr_lambda=lmbda)\n",
    "# lrs = []\n",
    "\n",
    "# for i in range(num_epochs):\n",
    "#     optimizer.step()\n",
    "#     lrs.append(optimizer.param_groups[0][\"lr\"])\n",
    "# #     print(\"Factor = \",0.95,\" , Learning Rate = \",optimizer.param_groups[0][\"lr\"])\n",
    "#     scheduler.step()\n",
    "\n",
    "\n",
    "# plt.plot(range(num_epochs),lrs)\n",
    "\n",
    "# optimizer = torch.optim.Adam(model.parameters(), lr=1e-4, betas=(0.09, 0.0999))\n",
    "# lmbda = lambda epoch: 1.1/math.exp(epoch*0.01)+0.8*(math.sin(2*epoch))\n",
    "# scheduler = torch.optim.lr_scheduler.MultiplicativeLR(optimizer, lr_lambda=lmbda)\n",
    "# lrs = []\n",
    "\n",
    "# for i in range(num_epochs):\n",
    "#     optimizer.step()\n",
    "#     lrs.append(optimizer.param_groups[0][\"lr\"])\n",
    "# #     print(\"Factor = \",0.95,\" , Learning Rate = \",optimizer.param_groups[0][\"lr\"])\n",
    "#     scheduler.step()\n",
    "\n",
    "\n",
    "# plt.plot(range(num_epochs),lrs)\n",
    "\n",
    "# optimizer = torch.optim.Adam(model.parameters(), lr=1e-4, betas=(0.09, 0.0999))\n",
    "# scheduler = torch.optim.lr_scheduler.OneCycleLR(optimizer, max_lr=3e-4, steps_per_epoch=1, epochs=num_epochs,pct_start=0.15)\n",
    "# lrs = []\n",
    "\n",
    "# for i in range(num_epochs):\n",
    "#     optimizer.step()\n",
    "#     lrs.append(optimizer.param_groups[0][\"lr\"])\n",
    "# #     print(\"Factor = \",0.95,\" , Learning Rate = \",optimizer.param_groups[0][\"lr\"])\n",
    "#     scheduler.step()\n",
    "\n",
    "\n",
    "# plt.plot(range(num_epochs),lrs)\n",
    "\n",
    "# optimizer = torch.optim.Adam(model.parameters(), lr=2e-5, betas=(0.09, 0.0999))\n",
    "# lmbda = lambda epoch: 3/math.exp(epoch*0.045)**4 if epoch<10 else 0.9** (epoch*0.2)\n",
    "# scheduler = torch.optim.lr_scheduler.MultiplicativeLR(optimizer, lr_lambda=lmbda)\n",
    "# lrs = []\n",
    "\n",
    "# for i in range(num_epochs):\n",
    "#     optimizer.step()\n",
    "#     lrs.append(optimizer.param_groups[0][\"lr\"])\n",
    "# #     print(\"Factor = \",0.95,\" , Learning Rate = \",optimizer.param_groups[0][\"lr\"])\n",
    "#     scheduler.step()\n",
    "\n",
    "\n",
    "# plt.plot(range(num_epochs),lrs)"
   ]
  }
 ],
 "metadata": {
  "interpreter": {
   "hash": "2acc8004557af241eccf1f459f07da2ea1a4dbde4f905bf047117aaeab484e13"
  },
  "kernelspec": {
   "display_name": "Python 3.9.5 64-bit ('gpu': conda)",
   "name": "python3"
  },
  "language_info": {
   "codemirror_mode": {
    "name": "ipython",
    "version": 3
   },
   "file_extension": ".py",
   "mimetype": "text/x-python",
   "name": "python",
   "nbconvert_exporter": "python",
   "pygments_lexer": "ipython3",
   "version": "3.9.5"
  },
  "orig_nbformat": 4
 },
 "nbformat": 4,
 "nbformat_minor": 2
}
